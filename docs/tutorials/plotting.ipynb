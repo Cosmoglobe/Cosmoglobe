{
 "cells": [
  {
   "cell_type": "markdown",
   "id": "0f1acda1",
   "metadata": {},
   "source": [
    "# Plotting tutorial"
   ]
  },
  {
   "cell_type": "markdown",
   "id": "c20c190c",
   "metadata": {},
   "source": [
    "Some user input is required to be given in terms of astropy quantities (`astropy.unit.Quantity` objects). As such, we begin by importing astropy units.\n",
    "Some matplotlib functions are also useful, but not nessecary."
   ]
  },
  {
   "cell_type": "code",
   "execution_count": null,
   "id": "706134b2",
   "metadata": {},
   "outputs": [],
   "source": [
    "import astropy.units as u\n",
    "import matplotlib.pyplot as plt"
   ]
  },
  {
   "cell_type": "markdown",
   "id": "8b06b429",
   "metadata": {},
   "source": [
    "## Loading a test data"
   ]
  },
  {
   "cell_type": "markdown",
   "id": "84e34c95",
   "metadata": {},
   "source": [
    "The cosmoglobe plotting tools can be invoked on many different types of data\n",
    "sets. Some of the functions are generalized to take arrays, cosmoglobe sky model\n",
    "objects or strings of fits files."
   ]
  },
  {
   "cell_type": "code",
   "execution_count": null,
   "id": "ae12f7dd",
   "metadata": {},
   "outputs": [],
   "source": [
    "import cosmoglobe\n",
    "chain = cosmoglobe.get_test_chain()\n",
    "model = cosmoglobe.model_from_chain(chain, nside=256, components=[\"synch\", \"ff\", \"ame\", \"dust\", \"radio\"])\n",
    "dust = model.components[\"dust\"].amp # Fetch the dust amplitude from the model object\n"
   ]
  },
  {
   "cell_type": "code",
   "execution_count": null,
   "id": "0bb3ea63",
   "metadata": {},
   "outputs": [],
   "source": [
    "cosmoglobe.plot(dust)"
   ]
  },
  {
   "cell_type": "markdown",
   "id": "36103e88",
   "metadata": {},
   "source": [
    "A handy feature with the cosmoglobe map plotter is that it auto-formats specific components.\n",
    "If the component is specified to be \"dust\", it will apply a suitible range, colormap and label."
   ]
  },
  {
   "cell_type": "code",
   "execution_count": null,
   "id": "729f431e",
   "metadata": {},
   "outputs": [],
   "source": [
    "cosmoglobe.plot(dust, comp=\"dust\")"
   ]
  },
  {
   "cell_type": "markdown",
   "id": "36103e88",
   "metadata": {},
   "source": [
    "If the input data has polarization data in it, the stokes parameter can also be specified to the autoformatter\n"
   ]
  },
  {
   "cell_type": "code",
   "execution_count": null,
   "id": "6de0abf1",
   "metadata": {},
   "outputs": [],
   "source": [
    "import healpy as hp\n",
    "import cmasher \n",
    "cosmoglobe.plot(dust[2].value, min=-100, max=100, norm=\"symlog2\", cmap=\"iceburn\")\n",
    "hp.projview(dust[2].value, min=-1e3, max=1e3, norm=\"symlog2\",show_tickmarkers=True, cmap=cmasher.iceburn)"
   ]
  },
  {
   "cell_type": "markdown",
   "id": "f40d643f",
   "metadata": {},
   "source": [
    "From here, you can go crazy with the plotting options, and any specified values will overwrite the autoformatting."
   ]
  },
  {
   "cell_type": "code",
   "execution_count": null,
   "id": "155ce0b4",
   "metadata": {},
   "outputs": [],
   "source": [
    "cosmoglobe.plot(dust, sig=\"Q\", ticks=[0, 3.14, None], norm=\"symlog2\", unit=u.uK, fwhm=14*u.arcmin, nside=512, cmap=\"chroma\", llabel=\"Left\", rlabel=\"Right\", title=\"Cool figure\", width=7, graticule=True, projection_type=\"hammer\", graticule_color=\"white\", xtick_label_color=\"white\", ytick_label_color=\"white\", darkmode=True)\n",
    "plt.gca().set_facecolor('black')"
   ]
  },
  {
   "cell_type": "markdown",
   "id": "1a385e8d",
   "metadata": {},
   "source": [
    "As already mentioned, the cosmoglobe plotter can take several different input types.\n",
    "Simply pass it the path to your fits file, and it will plot it.\n",
    "\n",
    "When using the cosmoglobe model object, there are even more features!\n",
    "For example, one can look at the sky at a specific frequency"
   ]
  },
  {
   "cell_type": "code",
   "execution_count": null,
   "id": "513e6dca",
   "metadata": {},
   "outputs": [],
   "source": [
    "cosmoglobe.plot(model, freq=70*u.GHz)"
   ]
  },
  {
   "cell_type": "markdown",
   "id": "d69e7647",
   "metadata": {},
   "source": [
    "All these functions can be invoked with the command line as well, using \"click\" functionality.\n",
    "This can be done by typing \n",
    "`cosmoglobe plot map.fits`"
   ]
  },
  {
   "cell_type": "markdown",
   "id": "97436b20",
   "metadata": {},
   "source": [
    "## Traceplot"
   ]
  },
  {
   "cell_type": "markdown",
   "id": "0e6ed221",
   "metadata": {},
   "source": [
    "Cosmoglobe comes with more than just sky-map plotting features.\n",
    "It also allows the user to plot a quantity in a chain over Gibbs samples in a formatted way."
   ]
  },
  {
   "cell_type": "code",
   "execution_count": null,
   "id": "44f80ac0",
   "metadata": {},
   "outputs": [],
   "source": [
    "#cosmoglobe.trace(chain, figsize=(10,2), sig=0, labels=[\"Reg1\",\"Reg2\",\"Reg3\",\"Reg4\"], dataset=\"synch/beta_pixreg_val\", ylabel=r\"$\\beta_s^T$\")\n",
    "import numpy as np\n",
    "data = np.random.rand(50, 2)\n",
    "cosmoglobe.trace(data, labels=[\"Test 1\",\"Test 2\",], )"
   ]
  },
  {
   "cell_type": "markdown",
   "id": "e69de2c6",
   "metadata": {},
   "source": [
    "## Histogram"
   ]
  },
  {
   "cell_type": "markdown",
   "id": "37793bde",
   "metadata": {},
   "source": [
    "Histograms of the same values are also useful and can be accessed through"
   ]
  },
  {
   "cell_type": "code",
   "execution_count": null,
   "id": "6bf6b6ff",
   "metadata": {},
   "outputs": [],
   "source": [
    "cosmoglobe.hist(dust[1].value, figsize=(6,4), range=(-100,100), bins=40, prior=(-30,10))"
   ]
  },
  {
   "cell_type": "markdown",
   "id": "5797d0d6",
   "metadata": {},
   "source": [
    "## Gnomonic view"
   ]
  },
  {
   "cell_type": "markdown",
   "id": "81838776",
   "metadata": {},
   "source": [
    "Cosmoglobe also provides gnomonic view plotting"
   ]
  },
  {
   "cell_type": "code",
   "execution_count": null,
   "id": "81382439",
   "metadata": {},
   "outputs": [],
   "source": [
    "cosmoglobe.gnom(dust, comp=\"dust\", norm=\"linear\", sub=(2,2,1), fontsize={\"title\": 15,})\n",
    "cosmoglobe.gnom(dust, comp=\"dust\", norm=\"linear\", sub=(2,2,2), fontsize={\"title\": 15,})\n",
    "cosmoglobe.gnom(dust, comp=\"dust\", norm=\"linear\", sub=(2,2,3), fontsize={\"title\": 15,})\n",
    "cosmoglobe.gnom(dust, comp=\"dust\", norm=\"linear\", sub=(2,2,4), fontsize={\"title\": 15,})\n",
    "\n",
    "plt.tight_layout(pad=0.0,)"
   ]
  },
  {
   "cell_type": "markdown",
   "id": "eb89a00e",
   "metadata": {},
   "source": [
    "## Frequency spectrum"
   ]
  },
  {
   "cell_type": "markdown",
   "id": "94867017",
   "metadata": {},
   "source": [
    "Another key feature of cosmoglobe is its ability to plot the full frequency spectrum of a given model."
   ]
  },
  {
   "cell_type": "code",
   "execution_count": null,
   "id": "80989e6e",
   "metadata": {},
   "outputs": [],
   "source": [
    "# Full page frequency spectrum in intensity and polarization\n",
    "cosmoglobe.spec(model,)\n",
    "cosmoglobe.spec(model,pol=True)\n",
    "# Smaller version\n",
    "cosmoglobe.spec(model, fraction=0.5, extend=False, comp_labelsize=8, band_labelsize=7, )"
   ]
  },
  {
   "cell_type": "markdown",
   "id": "60b51c11",
   "metadata": {},
   "source": [
    "## Standalone colorbar"
   ]
  },
  {
   "cell_type": "markdown",
   "id": "7b2892c8",
   "metadata": {},
   "source": [
    "When writing papers it is often useful to have standalone colorbars. \n",
    "Cosmoglobe has this feature, just provide it with a colormap, ticks and a unit."
   ]
  },
  {
   "cell_type": "code",
   "execution_count": null,
   "id": "68e62647",
   "metadata": {},
   "outputs": [],
   "source": [
    "cosmoglobe.standalone_colorbar(\"planck\", ticks=[-0.2,0,0.2], unit=r\"$S/\\sigma_S$\", )"
   ]
  }
 ],
 "metadata": {
  "interpreter": {
   "hash": "c3338eae9a8668db11f620892b6be4bf79c23e41c0b6bb3a0f0c000fc0e57094"
  },
  "kernelspec": {
   "display_name": "Python 3 (ipykernel)",
   "language": "python",
   "name": "python3"
  },
  "language_info": {
   "codemirror_mode": {
    "name": "ipython",
    "version": 3
   },
   "file_extension": ".py",
   "mimetype": "text/x-python",
   "name": "python",
   "nbconvert_exporter": "python",
   "pygments_lexer": "ipython3",
   "version": "3.8.11"
  }
 },
 "nbformat": 4,
 "nbformat_minor": 5
}
