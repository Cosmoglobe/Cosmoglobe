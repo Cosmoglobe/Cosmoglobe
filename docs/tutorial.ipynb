{
 "cells": [
  {
   "cell_type": "code",
   "execution_count": null,
   "id": "47fe689d",
   "metadata": {},
   "outputs": [],
   "source": [
    "import cosmoglobe"
   ]
  },
  {
   "cell_type": "code",
   "execution_count": 2,
   "id": "d7935516",
   "metadata": {},
   "outputs": [
    {
     "data": {
      "text/plain": [
       "<module 'cosmoglobe' from '/opt/anaconda3/envs/cosmoglobe_test/lib/python3.8/site-packages/cosmoglobe/__init__.py'>"
      ]
     },
     "execution_count": 2,
     "metadata": {},
     "output_type": "execute_result"
    }
   ],
   "source": [
    "cosmoglobe"
   ]
  },
  {
   "cell_type": "code",
   "execution_count": 7,
   "id": "89d776a8",
   "metadata": {},
   "outputs": [
    {
     "ename": "ModuleNotFoundError",
     "evalue": "No module named 'cosmoglobe.chain'",
     "output_type": "error",
     "traceback": [
      "\u001b[0;31m---------------------------------------------------------------------------\u001b[0m",
      "\u001b[0;31mModuleNotFoundError\u001b[0m                       Traceback (most recent call last)",
      "\u001b[0;32m<ipython-input-7-05c6af73e4a4>\u001b[0m in \u001b[0;36m<module>\u001b[0;34m\u001b[0m\n\u001b[0;32m----> 1\u001b[0;31m \u001b[0;32mfrom\u001b[0m \u001b[0mcosmoglobe\u001b[0m\u001b[0;34m.\u001b[0m\u001b[0msky\u001b[0m \u001b[0;32mimport\u001b[0m \u001b[0mmodel_from_chain\u001b[0m\u001b[0;34m\u001b[0m\u001b[0;34m\u001b[0m\u001b[0m\n\u001b[0m",
      "\u001b[0;32m/opt/anaconda3/envs/cosmoglobe_test/lib/python3.8/site-packages/cosmoglobe/sky/__init__.py\u001b[0m in \u001b[0;36m<module>\u001b[0;34m\u001b[0m\n\u001b[1;32m      1\u001b[0m \u001b[0;32mfrom\u001b[0m \u001b[0mcosmoglobe\u001b[0m\u001b[0;34m.\u001b[0m\u001b[0msky\u001b[0m\u001b[0;34m.\u001b[0m\u001b[0mmodel\u001b[0m \u001b[0;32mimport\u001b[0m \u001b[0mModel\u001b[0m\u001b[0;34m\u001b[0m\u001b[0;34m\u001b[0m\u001b[0m\n\u001b[0;32m----> 2\u001b[0;31m \u001b[0;32mfrom\u001b[0m \u001b[0mcosmoglobe\u001b[0m\u001b[0;34m.\u001b[0m\u001b[0mchain\u001b[0m\u001b[0;34m.\u001b[0m\u001b[0mh5\u001b[0m \u001b[0;32mimport\u001b[0m \u001b[0mmodel_from_chain\u001b[0m\u001b[0;34m\u001b[0m\u001b[0;34m\u001b[0m\u001b[0m\n\u001b[0m",
      "\u001b[0;31mModuleNotFoundError\u001b[0m: No module named 'cosmoglobe.chain'"
     ]
    }
   ],
   "source": [
    "from cosmoglobe.sky import model_from_chain"
   ]
  },
  {
   "cell_type": "code",
   "execution_count": null,
   "id": "51d8b115",
   "metadata": {},
   "outputs": [],
   "source": [
    "import astropy.units as u"
   ]
  },
  {
   "cell_type": "code",
   "execution_count": 4,
   "id": "aff8a703",
   "metadata": {},
   "outputs": [],
   "source": [
    "import pathlib"
   ]
  },
  {
   "cell_type": "code",
   "execution_count": 5,
   "id": "fa4aee1e",
   "metadata": {},
   "outputs": [],
   "source": [
    "chain_dir = pathlib.Path(\"/Users/metinsan/Documents/doktor/Cosmoglobe_test_data/\")\n",
    "chain = chain_dir / \"chain_test.h5\""
   ]
  },
  {
   "cell_type": "code",
   "execution_count": 6,
   "id": "50ecdd46",
   "metadata": {},
   "outputs": [
    {
     "ename": "NameError",
     "evalue": "name 'model_from_chain' is not defined",
     "output_type": "error",
     "traceback": [
      "\u001b[0;31m---------------------------------------------------------------------------\u001b[0m",
      "\u001b[0;31mNameError\u001b[0m                                 Traceback (most recent call last)",
      "\u001b[0;32m<ipython-input-6-d9466d11212e>\u001b[0m in \u001b[0;36m<module>\u001b[0;34m\u001b[0m\n\u001b[0;32m----> 1\u001b[0;31m \u001b[0mmodel\u001b[0m \u001b[0;34m=\u001b[0m \u001b[0mmodel_from_chain\u001b[0m\u001b[0;34m(\u001b[0m\u001b[0mchain\u001b[0m\u001b[0;34m,\u001b[0m \u001b[0mnside\u001b[0m\u001b[0;34m=\u001b[0m\u001b[0;36m256\u001b[0m\u001b[0;34m)\u001b[0m\u001b[0;34m\u001b[0m\u001b[0;34m\u001b[0m\u001b[0m\n\u001b[0m",
      "\u001b[0;31mNameError\u001b[0m: name 'model_from_chain' is not defined"
     ]
    }
   ],
   "source": [
    "model = model_from_chain(chain, nside=256)\n"
   ]
  },
  {
   "cell_type": "code",
   "execution_count": null,
   "id": "4da89128",
   "metadata": {},
   "outputs": [],
   "source": []
  }
 ],
 "metadata": {
  "kernelspec": {
   "display_name": "cosmoglobe_test",
   "language": "python",
   "name": "cosmoglobe_test"
  },
  "language_info": {
   "codemirror_mode": {
    "name": "ipython",
    "version": 3
   },
   "file_extension": ".py",
   "mimetype": "text/x-python",
   "name": "python",
   "nbconvert_exporter": "python",
   "pygments_lexer": "ipython3",
   "version": "3.8.10"
  }
 },
 "nbformat": 4,
 "nbformat_minor": 5
}
