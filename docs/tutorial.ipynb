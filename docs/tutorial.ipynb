{
 "cells": [
  {
   "cell_type": "markdown",
   "id": "818a985a",
   "metadata": {},
   "source": [
    "# Sky model tutorial"
   ]
  },
  {
   "cell_type": "markdown",
   "id": "0450dcec",
   "metadata": {},
   "source": [
    "Most quantities in the sky model interface is `astropy.unit.Quantity` objects"
   ]
  },
  {
   "cell_type": "code",
   "execution_count": 1,
   "id": "9511cc8c",
   "metadata": {},
   "outputs": [],
   "source": [
    "import astropy.units as u"
   ]
  },
  {
   "cell_type": "markdown",
   "id": "cfec820f",
   "metadata": {},
   "source": [
    "## Loading a sky model"
   ]
  },
  {
   "cell_type": "markdown",
   "id": "5cbfaadc",
   "metadata": {},
   "source": [
    "There are two ways to initialize the Cosmoglobe Sky Model. The default way is to use the ``cosmoglobe.skymodel`` function, which by default downloads and cache a HDF5 file containing the model data (for a specific NSIDE).\n",
    "\n",
    "Alternatively, we can use ``cosmoglobe.model_from_chain`` if we have direct access to a commander3 chain."
   ]
  },
  {
   "cell_type": "markdown",
   "id": "9018b00d",
   "metadata": {},
   "source": [
    "### Using ``cosmoglobe.skymodel`` (currently unavailable)"
   ]
  },
  {
   "cell_type": "markdown",
   "id": "290dd423",
   "metadata": {},
   "source": [
    "This method is currently unavailable as we are working on producing the first stable data release. As a result the below code will not function as of now."
   ]
  },
  {
   "cell_type": "code",
   "execution_count": 2,
   "id": "c76c025e",
   "metadata": {},
   "outputs": [],
   "source": [
    "# from cosmoglobe import skymodel\n",
    "# model = skymodel(nside=256)"
   ]
  },
  {
   "cell_type": "markdown",
   "id": "5160c667",
   "metadata": {},
   "source": [
    "### Using ``cosmoglobe.model_from_chain``"
   ]
  },
  {
   "cell_type": "markdown",
   "id": "0f946a7c",
   "metadata": {},
   "source": [
    "This method initializes a model directly from a commander3 HDF5 chainfile."
   ]
  },
  {
   "cell_type": "code",
   "execution_count": 3,
   "id": "dbc7de20",
   "metadata": {},
   "outputs": [
    {
     "ename": "ImportError",
     "evalue": "cannot import name 'model_from_chain' from 'cosmoglobe' (/opt/anaconda3/envs/cosmoglobe_test/lib/python3.8/site-packages/cosmoglobe/__init__.py)",
     "output_type": "error",
     "traceback": [
      "\u001b[0;31m---------------------------------------------------------------------------\u001b[0m",
      "\u001b[0;31mImportError\u001b[0m                               Traceback (most recent call last)",
      "\u001b[0;32m<ipython-input-3-6cf098c93f68>\u001b[0m in \u001b[0;36m<module>\u001b[0;34m\u001b[0m\n\u001b[0;32m----> 1\u001b[0;31m \u001b[0;32mfrom\u001b[0m \u001b[0mcosmoglobe\u001b[0m \u001b[0;32mimport\u001b[0m \u001b[0mmodel_from_chain\u001b[0m\u001b[0;34m\u001b[0m\u001b[0;34m\u001b[0m\u001b[0m\n\u001b[0m\u001b[1;32m      2\u001b[0m \u001b[0;34m\u001b[0m\u001b[0m\n\u001b[1;32m      3\u001b[0m \u001b[0;31m# Path to commander3 chainfile\u001b[0m\u001b[0;34m\u001b[0m\u001b[0;34m\u001b[0m\u001b[0;34m\u001b[0m\u001b[0m\n\u001b[1;32m      4\u001b[0m \u001b[0mchain\u001b[0m \u001b[0;34m=\u001b[0m \u001b[0;34m\"/Users/metinsan/Documents/doktor/Cosmoglobe_test_data/chain_test.h5\"\u001b[0m\u001b[0;34m\u001b[0m\u001b[0;34m\u001b[0m\u001b[0m\n\u001b[1;32m      5\u001b[0m \u001b[0;34m\u001b[0m\u001b[0m\n",
      "\u001b[0;31mImportError\u001b[0m: cannot import name 'model_from_chain' from 'cosmoglobe' (/opt/anaconda3/envs/cosmoglobe_test/lib/python3.8/site-packages/cosmoglobe/__init__.py)"
     ]
    }
   ],
   "source": [
    "from cosmoglobe import model_from_chain\n",
    "\n",
    "# Path to commander3 chainfile\n",
    "chain = \"/Users/metinsan/Documents/doktor/Cosmoglobe_test_data/chain_test.h5\"\n",
    "\n",
    "# Initializing the Cosmoglobe Sky Model at NSIDE 256\n",
    "model = model_from_chain(chain, nside=256)"
   ]
  },
  {
   "cell_type": "markdown",
   "id": "confused-celebration",
   "metadata": {},
   "source": [
    "## The model object "
   ]
  },
  {
   "cell_type": "markdown",
   "id": "1d4ce1b1",
   "metadata": {},
   "source": [
    "To get an overview of the model and the sky components in it, we can print the model object:"
   ]
  },
  {
   "cell_type": "code",
   "execution_count": null,
   "id": "43cf8afb",
   "metadata": {},
   "outputs": [],
   "source": [
    "model"
   ]
  },
  {
   "cell_type": "markdown",
   "id": "012b72cd",
   "metadata": {},
   "source": [
    "We can disable any component in the model with the `model.disable()` function:"
   ]
  },
  {
   "cell_type": "code",
   "execution_count": null,
   "id": "4ca7a0be",
   "metadata": {},
   "outputs": [],
   "source": [
    "model.disable('radio')\n",
    "model"
   ]
  },
  {
   "cell_type": "markdown",
   "id": "b1b859eb",
   "metadata": {},
   "source": [
    "And re-enable them using the `model.enable` function:"
   ]
  },
  {
   "cell_type": "code",
   "execution_count": null,
   "id": "12603f22",
   "metadata": {},
   "outputs": [],
   "source": [
    "model.enable('radio')"
   ]
  },
  {
   "cell_type": "markdown",
   "id": "dc493d28",
   "metadata": {},
   "source": [
    "## Model components"
   ]
  },
  {
   "cell_type": "markdown",
   "id": "24d32a48",
   "metadata": {},
   "source": [
    "Let us explore the sky components in further detail. Each component can be individually accessed through the attribute names seen in the ``print(model)`` output."
   ]
  },
  {
   "cell_type": "code",
   "execution_count": null,
   "id": "49e7af40",
   "metadata": {},
   "outputs": [],
   "source": [
    "print(model.dust, model.synch) # Etc.."
   ]
  },
  {
   "cell_type": "markdown",
   "id": "13532f4d",
   "metadata": {},
   "source": [
    "### Component attributes"
   ]
  },
  {
   "cell_type": "markdown",
   "id": "09f0bbca",
   "metadata": {},
   "source": [
    "The model data is stored in the following component attributes:\n",
    "\n",
    "- `amp`: Amplitude map at the reference frequency (Commander average posterior map)\n",
    "\n",
    "- `freq_ref`: Reference frequency of `amp`\n",
    "\n",
    "- `spectral_parameters`: A dictionary containing the spectral parameters\n",
    "\n",
    "We can print these attributes:"
   ]
  },
  {
   "cell_type": "code",
   "execution_count": null,
   "id": "4ef54321",
   "metadata": {
    "scrolled": true
   },
   "outputs": [],
   "source": [
    "print(model.dust.amp)\n",
    "print(model.dust.freq_ref)\n",
    "print(model.dust.spectral_parameters)"
   ]
  },
  {
   "cell_type": "markdown",
   "id": "241414ca",
   "metadata": {},
   "source": [
    "### Visualizing component"
   ]
  },
  {
   "cell_type": "markdown",
   "id": "c19c68c2",
   "metadata": {},
   "source": [
    "We can visualize the maps of a component (`amp` or a spectral parameter map) using `healpy.mollview`. \n",
    "\n",
    "Alternatively, we can use `cosmoglobe.plot`, which is a wrapper on healpy's mollview function that features built-in esthetique choices. \n",
    "\n",
    "In this tutorial we will use `cosmoglobe.plot`. For a more in in-depth overview of the built-in plot function, please see the Plotting tutorial."
   ]
  },
  {
   "cell_type": "code",
   "execution_count": null,
   "id": "6818ad17",
   "metadata": {},
   "outputs": [],
   "source": [
    "from cosmoglobe import plot"
   ]
  },
  {
   "cell_type": "markdown",
   "id": "afd79dc1",
   "metadata": {},
   "source": [
    "Lets plot some of the reference amplitude maps that the model uses:"
   ]
  },
  {
   "cell_type": "code",
   "execution_count": null,
   "id": "7e721a0d",
   "metadata": {},
   "outputs": [],
   "source": [
    "dust_amp_I = model.dust.amp[0]  # Stokes I map of dust\n",
    "\n",
    "plot(\n",
    "    dust_amp_I,\n",
    "    title='Dust Stokes I',\n",
    "    min=30,\n",
    "    max=3000,\n",
    "    norm='log',\n",
    "    cmap='sunburst',\n",
    ")"
   ]
  },
  {
   "cell_type": "code",
   "execution_count": null,
   "id": "f5b017aa",
   "metadata": {},
   "outputs": [],
   "source": [
    "dust_amp_Q = model.dust.amp[1]  # Stokes Q map of dust\n",
    "\n",
    "plot(\n",
    "    dust_amp_Q,\n",
    "    title='Dust Stokes Q',\n",
    "    min=-100,\n",
    "    max=100,\n",
    "    norm='log',\n",
    "    cmap='iceburn',\n",
    ")"
   ]
  },
  {
   "cell_type": "markdown",
   "id": "9b4f7d40",
   "metadata": {},
   "source": [
    "## Simulations"
   ]
  },
  {
   "cell_type": "markdown",
   "id": "genetic-request",
   "metadata": {},
   "source": [
    "The primary use case of the cosmoglobe software is to provide the community with astrophysical maps generated with the Cosmoglobe Sky Model through commander. The mean posterior maps (given at some reference frequency) are directly accessible through component attributes of the model object as demonstrated in the above section.\n",
    "\n",
    "These maps can additionally be extrapolated to an arbitrary frequency to produce simulations of the sky. In the following we look at how we generate simulations with the cosmoglobe software:"
   ]
  },
  {
   "cell_type": "markdown",
   "id": "innovative-roommate",
   "metadata": {},
   "source": [
    "### Simulating component emission"
   ]
  },
  {
   "cell_type": "markdown",
   "id": "c6d1fc9e",
   "metadata": {},
   "source": [
    "We can simulate the emission from a component at an arbitrary frequency `freq` by calling the component's `__call__` method, e.g `model.dust(freq)`.\n",
    "\n",
    "This function takes in the following key word arguments:\n",
    "\n",
    "- `freqs` : A frequency, or a list of frequencies for which to evaluate the sky emission (must be astropy quantities).\n",
    "\n",
    "- `bandpass` : Bandpass profile corresponding to the frequencies (optional). \n",
    "\n",
    "- `fwhm` : The full width half max parameter of the Gaussian used to smooth the output (optional).\n",
    "\n",
    "- `output_unit` : The output units of the emission (By default the output unit of the model is always in uK_RJ\n",
    "\n",
    "Below, we illustrate a simulation of synchrotron emission at $20\\;\\mathrm{GHz}$:"
   ]
  },
  {
   "cell_type": "code",
   "execution_count": null,
   "id": "d9fbb714",
   "metadata": {},
   "outputs": [],
   "source": [
    "# Simulated synchrotron emission at 20GHz\n",
    "simulated_emission = model.synch(20*u.GHz)\n",
    "\n",
    "plot(\n",
    "    simulated_emission[0],\n",
    "    title='Synchrotron simulated at 20 GHz', \n",
    "    cmap='swamp',\n",
    ")"
   ]
  },
  {
   "cell_type": "markdown",
   "id": "australian-steel",
   "metadata": {},
   "source": [
    "We will also demonstrate the other optional keywords. Here we simulate free-free emission at $20\\;\\mathrm{GHz}$ seen with a beam with a FWHM of $30\\;'$ with output units set to $\\mathrm{MJy/sr}$:"
   ]
  },
  {
   "cell_type": "code",
   "execution_count": null,
   "id": "c51cfb5f",
   "metadata": {},
   "outputs": [],
   "source": [
    "# Simulated free-free emission at 60GHz seen by a 30 arcmin beam in units of MJy/sr\n",
    "simulated_emission = model.ff(60*u.GHz, fwhm=30*u.arcmin, output_unit='MJy/sr')\n",
    "\n",
    "plot(\n",
    "    simulated_emission[0], \n",
    "    title=f'Free-free simulated at 60GHz with a 30 arcmin beam', \n",
    "    unit=ff_60GHz,\n",
    "    cmap='freeze',\n",
    ")"
   ]
  },
  {
   "cell_type": "markdown",
   "id": "08fe61b9",
   "metadata": {},
   "source": [
    "### Simulating model emission"
   ]
  },
  {
   "cell_type": "markdown",
   "id": "d81cdeb5",
   "metadata": {},
   "source": [
    "Similarly, by calling the model's `__call__` function (which takes in the same keyword arguments), we can simulate the sky emission over the full model at a given frequency:"
   ]
  },
  {
   "cell_type": "code",
   "execution_count": null,
   "id": "39a0ba6e",
   "metadata": {},
   "outputs": [],
   "source": [
    "# Simulated full sky emission at 100GHz seen by a 60 arcmin beam in units of uK_RJ\n",
    "emission = model(100*u.GHz, fwhm=60*u.arcmin)[0]\n",
    "\n",
    "plot(\n",
    "    emission, \n",
    "    title='full sky simulated at 100GHz with a 60 arcmin beam',  \n",
    "    min=-3400,\n",
    "    max=3400,\n",
    "    norm='hist',\n",
    ")\n"
   ]
  },
  {
   "cell_type": "markdown",
   "id": "a337627a",
   "metadata": {},
   "source": [
    "It is possible to remove the solar dipole from the model, by calling `model.cmb.remove_dipole()`:"
   ]
  },
  {
   "cell_type": "code",
   "execution_count": null,
   "id": "7bc282c6",
   "metadata": {},
   "outputs": [],
   "source": [
    "# Remove the solar dipole\n",
    "model.cmb.remove_dipole()\n",
    "\n",
    "# Simulated full sky emission at 100GHz seen by a 60 arcmin beam in units of uK_RJ\n",
    "fullsky_emission_100GHz = model(100*u.GHz, fwhm=60*u.arcmin)[0]\n",
    "\n",
    "plot(\n",
    "    fullsky_emission_100GHz, \n",
    "    title='full sky simulated at 100GHz with a 60 arcmin beam', \n",
    "    min=-300,\n",
    "    max=300,\n",
    ")\n"
   ]
  },
  {
   "cell_type": "markdown",
   "id": "bfdbdfff",
   "metadata": {},
   "source": [
    "### Bandpass integration"
   ]
  },
  {
   "cell_type": "markdown",
   "id": "752d905f",
   "metadata": {},
   "source": [
    "We can also make simulations that have integrated the sky emission over a given bandpass. By default \n",
    "if only a list of frequencies are supplied without a explicit bandpass, a top-hat bandpass will be assumed."
   ]
  },
  {
   "cell_type": "code",
   "execution_count": null,
   "id": "4db44bac",
   "metadata": {},
   "outputs": [],
   "source": [
    "import numpy as np\n",
    "\n",
    "frequencies = np.arange(100, 110, 50)*u.GHz\n",
    "\n",
    "emission = model(frequencies, fwhm=40*u.arcmin)\n",
    "\n",
    "plot(\n",
    "    emission, \n",
    "    title='Sky simulated with a top-hat bandpass', \n",
    "    norm='hist',\n",
    ")"
   ]
  },
  {
   "cell_type": "markdown",
   "id": "7c2a3e7f",
   "metadata": {},
   "source": [
    "In the following we use the WMAP K-band bandpass profile:"
   ]
  },
  {
   "cell_type": "code",
   "execution_count": null,
   "id": "4bca95b3",
   "metadata": {},
   "outputs": [],
   "source": [
    "bandpass = \"/Users/metinsan/Documents/doktor/Cosmoglobe_test_data/wmap_bandpass.txt\"\n",
    "frequencies, bandpass, _ = np.loadtxt(bandpass, unpack=True)\n",
    "\n",
    "#add astropy units to the bandpass\n",
    "frequencies*= u.GHz\n",
    "bandpass *= u.K"
   ]
  },
  {
   "cell_type": "code",
   "execution_count": null,
   "id": "f942f156",
   "metadata": {},
   "outputs": [],
   "source": [
    "# Note: Solar dipole is removed from the model\n",
    "wmap_kband_emission = model(frequencies, bandpass, fwhm=0.88*u.deg, output_unit='mK')[0]\n",
    "\n",
    "plot(\n",
    "    wmap_kband_emission, \n",
    "    title='Sky as seen by the WMAP K-band', \n",
    "    unit=wmap_kband_emission.unit,\n",
    "    norm='hist',\n",
    ")"
   ]
  },
  {
   "cell_type": "markdown",
   "id": "c6f90dc8",
   "metadata": {},
   "source": [
    "## Point sources"
   ]
  },
  {
   "cell_type": "markdown",
   "id": "30b064b0",
   "metadata": {},
   "source": [
    "The radio component does not internally store amplitude maps, but rather just a single amplitude value estimated in commander per point source. Each source is mapped to a healpix map with a gaussian beam whenever the model (or radio component) is called."
   ]
  },
  {
   "cell_type": "code",
   "execution_count": null,
   "id": "028f69bf",
   "metadata": {},
   "outputs": [],
   "source": [
    "# Point sources seen at 40GHz over a 50 arcmin gaussian beam\n",
    "emission = model.radio(30*u.GHz, fwhm=50*u.arcmin)[0]\n",
    "\n",
    "plot(\n",
    "    emission, \n",
    "    title='Point sources at 40 GHz with a 50 arcmin gaussian beam', \n",
    "    norm='log', \n",
    "    cmap='CMRmap'\n",
    ")"
   ]
  }
 ],
 "metadata": {
  "kernelspec": {
   "display_name": "cosmoglobe_test",
   "language": "python",
   "name": "cosmoglobe_test"
  },
  "language_info": {
   "codemirror_mode": {
    "name": "ipython",
    "version": 3
   },
   "file_extension": ".py",
   "mimetype": "text/x-python",
   "name": "python",
   "nbconvert_exporter": "python",
   "pygments_lexer": "ipython3",
   "version": "3.8.10"
  }
 },
 "nbformat": 4,
 "nbformat_minor": 5
}
